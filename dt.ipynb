{
 "cells": [
  {
   "cell_type": "code",
   "execution_count": 1,
   "id": "9ea666cd",
   "metadata": {},
   "outputs": [],
   "source": [
    "import pandas as pd\n",
    "from sklearn.preprocessing import LabelEncoder\n",
    "from sklearn.tree import DecisionTreeClassifier\n",
    "from sklearn.model_selection import train_test_split\n",
    "from sklearn.metrics import accuracy_score\n",
    "import numpy as np\n",
    "import matplotlib.pyplot as plt\n",
    "\n"
   ]
  },
  {
   "cell_type": "code",
   "execution_count": 2,
   "id": "80d021c2",
   "metadata": {
    "scrolled": true
   },
   "outputs": [
    {
     "data": {
      "text/html": [
       "<div>\n",
       "<style scoped>\n",
       "    .dataframe tbody tr th:only-of-type {\n",
       "        vertical-align: middle;\n",
       "    }\n",
       "\n",
       "    .dataframe tbody tr th {\n",
       "        vertical-align: top;\n",
       "    }\n",
       "\n",
       "    .dataframe thead th {\n",
       "        text-align: right;\n",
       "    }\n",
       "</style>\n",
       "<table border=\"1\" class=\"dataframe\">\n",
       "  <thead>\n",
       "    <tr style=\"text-align: right;\">\n",
       "      <th></th>\n",
       "      <th>Age</th>\n",
       "      <th>Sex</th>\n",
       "      <th>BP</th>\n",
       "      <th>Cholesterol</th>\n",
       "      <th>Na_to_K</th>\n",
       "      <th>Drug</th>\n",
       "    </tr>\n",
       "  </thead>\n",
       "  <tbody>\n",
       "    <tr>\n",
       "      <th>0</th>\n",
       "      <td>23</td>\n",
       "      <td>F</td>\n",
       "      <td>HIGH</td>\n",
       "      <td>HIGH</td>\n",
       "      <td>25.355</td>\n",
       "      <td>drugY</td>\n",
       "    </tr>\n",
       "    <tr>\n",
       "      <th>1</th>\n",
       "      <td>47</td>\n",
       "      <td>M</td>\n",
       "      <td>LOW</td>\n",
       "      <td>HIGH</td>\n",
       "      <td>13.093</td>\n",
       "      <td>drugC</td>\n",
       "    </tr>\n",
       "    <tr>\n",
       "      <th>2</th>\n",
       "      <td>47</td>\n",
       "      <td>M</td>\n",
       "      <td>LOW</td>\n",
       "      <td>HIGH</td>\n",
       "      <td>10.114</td>\n",
       "      <td>drugC</td>\n",
       "    </tr>\n",
       "    <tr>\n",
       "      <th>3</th>\n",
       "      <td>28</td>\n",
       "      <td>F</td>\n",
       "      <td>NORMAL</td>\n",
       "      <td>HIGH</td>\n",
       "      <td>NaN</td>\n",
       "      <td>drugX</td>\n",
       "    </tr>\n",
       "    <tr>\n",
       "      <th>4</th>\n",
       "      <td>61</td>\n",
       "      <td>F</td>\n",
       "      <td>LOW</td>\n",
       "      <td>HIGH</td>\n",
       "      <td>18.043</td>\n",
       "      <td>drugY</td>\n",
       "    </tr>\n",
       "    <tr>\n",
       "      <th>...</th>\n",
       "      <td>...</td>\n",
       "      <td>...</td>\n",
       "      <td>...</td>\n",
       "      <td>...</td>\n",
       "      <td>...</td>\n",
       "      <td>...</td>\n",
       "    </tr>\n",
       "    <tr>\n",
       "      <th>195</th>\n",
       "      <td>56</td>\n",
       "      <td>F</td>\n",
       "      <td>LOW</td>\n",
       "      <td>HIGH</td>\n",
       "      <td>11.567</td>\n",
       "      <td>drugC</td>\n",
       "    </tr>\n",
       "    <tr>\n",
       "      <th>196</th>\n",
       "      <td>16</td>\n",
       "      <td>M</td>\n",
       "      <td>LOW</td>\n",
       "      <td>HIGH</td>\n",
       "      <td>12.006</td>\n",
       "      <td>drugC</td>\n",
       "    </tr>\n",
       "    <tr>\n",
       "      <th>197</th>\n",
       "      <td>52</td>\n",
       "      <td>M</td>\n",
       "      <td>NORMAL</td>\n",
       "      <td>HIGH</td>\n",
       "      <td>9.894</td>\n",
       "      <td>drugX</td>\n",
       "    </tr>\n",
       "    <tr>\n",
       "      <th>198</th>\n",
       "      <td>23</td>\n",
       "      <td>M</td>\n",
       "      <td>NORMAL</td>\n",
       "      <td>NaN</td>\n",
       "      <td>14.020</td>\n",
       "      <td>drugX</td>\n",
       "    </tr>\n",
       "    <tr>\n",
       "      <th>199</th>\n",
       "      <td>40</td>\n",
       "      <td>F</td>\n",
       "      <td>LOW</td>\n",
       "      <td>NORMAL</td>\n",
       "      <td>11.349</td>\n",
       "      <td>drugX</td>\n",
       "    </tr>\n",
       "  </tbody>\n",
       "</table>\n",
       "<p>200 rows × 6 columns</p>\n",
       "</div>"
      ],
      "text/plain": [
       "     Age Sex      BP Cholesterol  Na_to_K   Drug\n",
       "0     23   F    HIGH        HIGH   25.355  drugY\n",
       "1     47   M     LOW        HIGH   13.093  drugC\n",
       "2     47   M     LOW        HIGH   10.114  drugC\n",
       "3     28   F  NORMAL        HIGH      NaN  drugX\n",
       "4     61   F     LOW        HIGH   18.043  drugY\n",
       "..   ...  ..     ...         ...      ...    ...\n",
       "195   56   F     LOW        HIGH   11.567  drugC\n",
       "196   16   M     LOW        HIGH   12.006  drugC\n",
       "197   52   M  NORMAL        HIGH    9.894  drugX\n",
       "198   23   M  NORMAL         NaN   14.020  drugX\n",
       "199   40   F     LOW      NORMAL   11.349  drugX\n",
       "\n",
       "[200 rows x 6 columns]"
      ]
     },
     "execution_count": 2,
     "metadata": {},
     "output_type": "execute_result"
    }
   ],
   "source": [
    "df = pd.read_csv(r\"C:\\Users\\otaku7\\Desktop\\drug.csv\")\n",
    "df"
   ]
  },
  {
   "cell_type": "markdown",
   "id": "3761f5a8",
   "metadata": {},
   "source": [
    "# Data Preprocessing:"
   ]
  },
  {
   "cell_type": "markdown",
   "id": "e9fc1f7b",
   "metadata": {},
   "source": [
    "### handling missing data"
   ]
  },
  {
   "cell_type": "code",
   "execution_count": 3,
   "id": "b16dd51e",
   "metadata": {},
   "outputs": [
    {
     "data": {
      "text/plain": [
       "Age            0\n",
       "Sex            0\n",
       "BP             2\n",
       "Cholesterol    2\n",
       "Na_to_K        1\n",
       "Drug           0\n",
       "dtype: int64"
      ]
     },
     "execution_count": 3,
     "metadata": {},
     "output_type": "execute_result"
    }
   ],
   "source": [
    "df.isnull().sum()"
   ]
  },
  {
   "cell_type": "code",
   "execution_count": 4,
   "id": "bf990c22",
   "metadata": {},
   "outputs": [
    {
     "name": "stdout",
     "output_type": "stream",
     "text": [
      "<class 'pandas.core.frame.DataFrame'>\n",
      "RangeIndex: 200 entries, 0 to 199\n",
      "Data columns (total 6 columns):\n",
      " #   Column       Non-Null Count  Dtype  \n",
      "---  ------       --------------  -----  \n",
      " 0   Age          200 non-null    int64  \n",
      " 1   Sex          200 non-null    object \n",
      " 2   BP           198 non-null    object \n",
      " 3   Cholesterol  198 non-null    object \n",
      " 4   Na_to_K      199 non-null    float64\n",
      " 5   Drug         200 non-null    object \n",
      "dtypes: float64(1), int64(1), object(4)\n",
      "memory usage: 9.5+ KB\n"
     ]
    }
   ],
   "source": [
    "df.info()"
   ]
  },
  {
   "cell_type": "code",
   "execution_count": 5,
   "id": "761419a9",
   "metadata": {},
   "outputs": [
    {
     "name": "stderr",
     "output_type": "stream",
     "text": [
      "C:\\Users\\otaku7\\AppData\\Local\\Temp/ipykernel_1884/114435927.py:1: FutureWarning: Dropping of nuisance columns in DataFrame reductions (with 'numeric_only=None') is deprecated; in a future version this will raise TypeError.  Select only valid columns before calling the reduction.\n",
      "  df = df.fillna(df.mean())\n"
     ]
    }
   ],
   "source": [
    "df = df.fillna(df.mean())"
   ]
  },
  {
   "cell_type": "code",
   "execution_count": 6,
   "id": "7965be87",
   "metadata": {},
   "outputs": [],
   "source": [
    "df = df.apply(lambda col: col.fillna(col.mode().iloc[0]))"
   ]
  },
  {
   "cell_type": "code",
   "execution_count": 7,
   "id": "6ce2583b",
   "metadata": {},
   "outputs": [
    {
     "data": {
      "text/plain": [
       "Age            0\n",
       "Sex            0\n",
       "BP             0\n",
       "Cholesterol    0\n",
       "Na_to_K        0\n",
       "Drug           0\n",
       "dtype: int64"
      ]
     },
     "execution_count": 7,
     "metadata": {},
     "output_type": "execute_result"
    }
   ],
   "source": [
    "df.isnull().sum()"
   ]
  },
  {
   "cell_type": "markdown",
   "id": "f34271e9",
   "metadata": {},
   "source": [
    "### encoding categorical variables."
   ]
  },
  {
   "cell_type": "code",
   "execution_count": 8,
   "id": "9b0f4526",
   "metadata": {},
   "outputs": [
    {
     "name": "stdout",
     "output_type": "stream",
     "text": [
      "<class 'pandas.core.frame.DataFrame'>\n",
      "RangeIndex: 200 entries, 0 to 199\n",
      "Data columns (total 6 columns):\n",
      " #   Column       Non-Null Count  Dtype  \n",
      "---  ------       --------------  -----  \n",
      " 0   Age          200 non-null    int64  \n",
      " 1   Sex          200 non-null    object \n",
      " 2   BP           200 non-null    object \n",
      " 3   Cholesterol  200 non-null    object \n",
      " 4   Na_to_K      200 non-null    float64\n",
      " 5   Drug         200 non-null    object \n",
      "dtypes: float64(1), int64(1), object(4)\n",
      "memory usage: 9.5+ KB\n"
     ]
    }
   ],
   "source": [
    "df.info()"
   ]
  },
  {
   "cell_type": "code",
   "execution_count": 9,
   "id": "2c883b1a",
   "metadata": {},
   "outputs": [
    {
     "data": {
      "text/plain": [
       "Age             57\n",
       "Sex              2\n",
       "BP               3\n",
       "Cholesterol      2\n",
       "Na_to_K        198\n",
       "Drug             5\n",
       "dtype: int64"
      ]
     },
     "execution_count": 9,
     "metadata": {},
     "output_type": "execute_result"
    }
   ],
   "source": [
    "df.nunique()"
   ]
  },
  {
   "cell_type": "code",
   "execution_count": 10,
   "id": "326c7b62",
   "metadata": {
    "scrolled": true
   },
   "outputs": [
    {
     "data": {
      "text/html": [
       "<div>\n",
       "<style scoped>\n",
       "    .dataframe tbody tr th:only-of-type {\n",
       "        vertical-align: middle;\n",
       "    }\n",
       "\n",
       "    .dataframe tbody tr th {\n",
       "        vertical-align: top;\n",
       "    }\n",
       "\n",
       "    .dataframe thead th {\n",
       "        text-align: right;\n",
       "    }\n",
       "</style>\n",
       "<table border=\"1\" class=\"dataframe\">\n",
       "  <thead>\n",
       "    <tr style=\"text-align: right;\">\n",
       "      <th></th>\n",
       "      <th>Age</th>\n",
       "      <th>Sex</th>\n",
       "      <th>BP</th>\n",
       "      <th>Cholesterol</th>\n",
       "      <th>Na_to_K</th>\n",
       "      <th>Drug</th>\n",
       "    </tr>\n",
       "  </thead>\n",
       "  <tbody>\n",
       "    <tr>\n",
       "      <th>0</th>\n",
       "      <td>23</td>\n",
       "      <td>0</td>\n",
       "      <td>0</td>\n",
       "      <td>0</td>\n",
       "      <td>25.355000</td>\n",
       "      <td>4</td>\n",
       "    </tr>\n",
       "    <tr>\n",
       "      <th>1</th>\n",
       "      <td>47</td>\n",
       "      <td>1</td>\n",
       "      <td>1</td>\n",
       "      <td>0</td>\n",
       "      <td>13.093000</td>\n",
       "      <td>2</td>\n",
       "    </tr>\n",
       "    <tr>\n",
       "      <th>2</th>\n",
       "      <td>47</td>\n",
       "      <td>1</td>\n",
       "      <td>1</td>\n",
       "      <td>0</td>\n",
       "      <td>10.114000</td>\n",
       "      <td>2</td>\n",
       "    </tr>\n",
       "    <tr>\n",
       "      <th>3</th>\n",
       "      <td>28</td>\n",
       "      <td>0</td>\n",
       "      <td>2</td>\n",
       "      <td>0</td>\n",
       "      <td>16.126126</td>\n",
       "      <td>3</td>\n",
       "    </tr>\n",
       "    <tr>\n",
       "      <th>4</th>\n",
       "      <td>61</td>\n",
       "      <td>0</td>\n",
       "      <td>1</td>\n",
       "      <td>0</td>\n",
       "      <td>18.043000</td>\n",
       "      <td>4</td>\n",
       "    </tr>\n",
       "    <tr>\n",
       "      <th>...</th>\n",
       "      <td>...</td>\n",
       "      <td>...</td>\n",
       "      <td>...</td>\n",
       "      <td>...</td>\n",
       "      <td>...</td>\n",
       "      <td>...</td>\n",
       "    </tr>\n",
       "    <tr>\n",
       "      <th>195</th>\n",
       "      <td>56</td>\n",
       "      <td>0</td>\n",
       "      <td>1</td>\n",
       "      <td>0</td>\n",
       "      <td>11.567000</td>\n",
       "      <td>2</td>\n",
       "    </tr>\n",
       "    <tr>\n",
       "      <th>196</th>\n",
       "      <td>16</td>\n",
       "      <td>1</td>\n",
       "      <td>1</td>\n",
       "      <td>0</td>\n",
       "      <td>12.006000</td>\n",
       "      <td>2</td>\n",
       "    </tr>\n",
       "    <tr>\n",
       "      <th>197</th>\n",
       "      <td>52</td>\n",
       "      <td>1</td>\n",
       "      <td>2</td>\n",
       "      <td>0</td>\n",
       "      <td>9.894000</td>\n",
       "      <td>3</td>\n",
       "    </tr>\n",
       "    <tr>\n",
       "      <th>198</th>\n",
       "      <td>23</td>\n",
       "      <td>1</td>\n",
       "      <td>2</td>\n",
       "      <td>0</td>\n",
       "      <td>14.020000</td>\n",
       "      <td>3</td>\n",
       "    </tr>\n",
       "    <tr>\n",
       "      <th>199</th>\n",
       "      <td>40</td>\n",
       "      <td>0</td>\n",
       "      <td>1</td>\n",
       "      <td>1</td>\n",
       "      <td>11.349000</td>\n",
       "      <td>3</td>\n",
       "    </tr>\n",
       "  </tbody>\n",
       "</table>\n",
       "<p>200 rows × 6 columns</p>\n",
       "</div>"
      ],
      "text/plain": [
       "     Age  Sex  BP  Cholesterol    Na_to_K  Drug\n",
       "0     23    0   0            0  25.355000     4\n",
       "1     47    1   1            0  13.093000     2\n",
       "2     47    1   1            0  10.114000     2\n",
       "3     28    0   2            0  16.126126     3\n",
       "4     61    0   1            0  18.043000     4\n",
       "..   ...  ...  ..          ...        ...   ...\n",
       "195   56    0   1            0  11.567000     2\n",
       "196   16    1   1            0  12.006000     2\n",
       "197   52    1   2            0   9.894000     3\n",
       "198   23    1   2            0  14.020000     3\n",
       "199   40    0   1            1  11.349000     3\n",
       "\n",
       "[200 rows x 6 columns]"
      ]
     },
     "execution_count": 10,
     "metadata": {},
     "output_type": "execute_result"
    }
   ],
   "source": [
    "label_encode = LabelEncoder()\n",
    "df_ = df.apply(lambda col : label_encode.fit_transform(col) if col.dtype == 'object' else col)\n",
    "df_"
   ]
  },
  {
   "cell_type": "code",
   "execution_count": 11,
   "id": "7c972f2a",
   "metadata": {},
   "outputs": [
    {
     "name": "stdout",
     "output_type": "stream",
     "text": [
      "{'Drug': {'drugA': 0, 'drugB': 1, 'drugC': 2, 'drugX': 3, 'drugY': 4}}\n"
     ]
    }
   ],
   "source": [
    "mapping = {}\n",
    "mapping['Drug'] = dict(zip(label_encode.classes_, label_encode.transform(label_encode.classes_)))\n",
    "\n",
    "print(mapping)"
   ]
  },
  {
   "cell_type": "markdown",
   "id": "bc01a5ef",
   "metadata": {},
   "source": [
    "# First experiment:"
   ]
  },
  {
   "cell_type": "code",
   "execution_count": 12,
   "id": "f1844a34",
   "metadata": {},
   "outputs": [],
   "source": [
    "X=df_.drop('Drug', axis=1)\n",
    "y=df_['Drug']"
   ]
  },
  {
   "cell_type": "code",
   "execution_count": 13,
   "id": "7b65b987",
   "metadata": {},
   "outputs": [],
   "source": [
    "def pred(ran_st,sz):\n",
    "    X_train, X_test, y_train, y_test = train_test_split(X, y, test_size=sz/100, random_state=ran_st)\n",
    "    model=DecisionTreeClassifier()\n",
    "    model.fit(X_train,y_train)\n",
    "    # Get the size of the decision tree (number of nodes)\n",
    "    tree_size = model.tree_.node_count\n",
    "    y_pred=model.predict(X_test)\n",
    "    return accuracy_score(y_test,y_pred),tree_size\n",
    "    "
   ]
  },
  {
   "cell_type": "code",
   "execution_count": 14,
   "id": "62ddd36e",
   "metadata": {},
   "outputs": [
    {
     "name": "stdout",
     "output_type": "stream",
     "text": [
      "Experiment \tTree Size\t Accuracy\t\n",
      "1\t\t15.0000\t\t0.9667\t\n",
      "2\t\t15.0000\t\t0.9833\t\n",
      "3\t\t11.0000\t\t0.9833\t\n",
      "4\t\t15.0000\t\t1.0000\t\n",
      "5\t\t15.0000\t\t0.9667\t\n",
      "\n",
      "Best Model :- Experiment 4: Tree Size : 15, Accuracy : 1.0\n"
     ]
    }
   ],
   "source": [
    "j=0\n",
    "# Lists to store results\n",
    "tree_sizes = []\n",
    "accuracies = []\n",
    "print(\"Experiment \\tTree Size\\t Accuracy\\t\")\n",
    "\n",
    "for i in range(10,60,10):\n",
    "    exp=pred(i,30)\n",
    "    tree_size = exp[1]\n",
    "    accuracy=exp[0]\n",
    "    accuracies.append(accuracy)\n",
    "    tree_sizes.append(tree_size)\n",
    "    j+=1\n",
    "    print(f\"{j}\\t\\t{tree_size:.4f}\\t\\t{accuracy:.4f}\\t\")\n",
    "\n",
    "\n",
    "best_experiment = accuracies.index(max(accuracies))\n",
    "best_tree_size = tree_sizes[best_experiment]\n",
    "\n",
    "print(f\"\\nBest Model :- Experiment {best_experiment + 1}: Tree Size : {best_tree_size}, Accuracy : {max(accuracies)}\")"
   ]
  },
  {
   "cell_type": "markdown",
   "id": "34d20fcf",
   "metadata": {},
   "source": [
    "# Second experiment:"
   ]
  },
  {
   "cell_type": "code",
   "execution_count": 15,
   "id": "3c8d624f",
   "metadata": {},
   "outputs": [],
   "source": [
    "# Lists to store results\n",
    "acc_means = []\n",
    "acc_maxs = []\n",
    "acc_mins = []\n",
    "tree_size_means = []\n",
    "tree_size_maxs = []\n",
    "tree_size_mins = []\n",
    "for i in range(30,80,10):\n",
    "    acc_values = []\n",
    "    tree_size_values = []\n",
    "    for j in range(10,60,10):\n",
    "        exp=pred(j,i)\n",
    "        tree_size = exp[1]\n",
    "        accuracy=exp[0]\n",
    "        accuracies.append(accuracy)\n",
    "        tree_sizes.append(tree_size)\n",
    "        tree_size_values.append(tree_size)\n",
    "        acc_values.append(accuracy)\n",
    "    # Calculate mean, max, and min for accuracy and tree size\n",
    "    acc_mean = np.mean(acc_values)\n",
    "    acc_max = np.max(acc_values)\n",
    "    acc_min = np.min(acc_values)\n",
    "\n",
    "    tree_size_mean = np.mean(tree_size_values)\n",
    "    tree_size_max = np.max(tree_size_values)\n",
    "    tree_size_min = np.min(tree_size_values)\n",
    "\n",
    "    # Store results for each training set size\n",
    "    acc_means.append(acc_mean)\n",
    "    acc_maxs.append(acc_max)\n",
    "    acc_mins.append(acc_min)\n",
    "    tree_size_means.append(tree_size_mean)\n",
    "    tree_size_maxs.append(tree_size_max)\n",
    "    tree_size_mins.append(tree_size_min)\n",
    "    \n",
    "    "
   ]
  },
  {
   "cell_type": "markdown",
   "id": "733b314a",
   "metadata": {},
   "source": [
    "# the report"
   ]
  },
  {
   "cell_type": "code",
   "execution_count": 16,
   "id": "8de2b207",
   "metadata": {},
   "outputs": [
    {
     "name": "stdout",
     "output_type": "stream",
     "text": [
      "Training Size\tMean Accuracy\tMax Accuracy\tMin Accuracy\tMean Tree Size\tMax Tree Size\tMin Tree Size\n",
      "30\t\t0.9800\t\t1.0000\t\t0.9667\t\t14.20\t\t15\t\t11\n",
      "40\t\t0.9750\t\t0.9875\t\t0.9500\t\t14.60\t\t17\t\t11\n",
      "50\t\t0.9700\t\t0.9900\t\t0.9500\t\t12.20\t\t17\t\t11\n",
      "60\t\t0.9800\t\t0.9917\t\t0.9750\t\t11.80\t\t15\t\t11\n",
      "70\t\t0.9600\t\t0.9786\t\t0.9000\t\t12.60\t\t15\t\t11\n"
     ]
    }
   ],
   "source": [
    "print(\"Training Size\\tMean Accuracy\\tMax Accuracy\\tMin Accuracy\\tMean Tree Size\\tMax Tree Size\\tMin Tree Size\")\n",
    "j=20\n",
    "for i in range(5):\n",
    "    j+=10\n",
    "    print(f\"{j}\\t\\t{acc_means[i]:.4f}\\t\\t{acc_maxs[i]:.4f}\\t\\t{acc_mins[i]:.4f}\\t\\t{tree_size_means[i]:.2f}\\t\\t{tree_size_maxs[i]}\\t\\t{tree_size_mins[i]}\")"
   ]
  },
  {
   "cell_type": "markdown",
   "id": "8b1bae42",
   "metadata": {},
   "source": [
    "# Create two plots"
   ]
  },
  {
   "cell_type": "code",
   "execution_count": 23,
   "id": "b207d976",
   "metadata": {},
   "outputs": [
    {
     "data": {
      "image/png": "[encoded data removed]",
      "text/plain": [
       "<Figure size 864x432 with 1 Axes>"
      ]
     },
     "metadata": {
      "needs_background": "light"
     },
     "output_type": "display_data"
    }
   ],
   "source": [
    "# Create plots\n",
    "plt.figure(figsize=(12, 6))\n",
    "\n",
    "# Plot accuracy against training set size\n",
    "plt.subplot(1, 2, 1)\n",
    "plt.plot(np.arange(0.3, 0.8, 0.1), acc_means, label='Mean Accuracy', marker='o')\n",
    "# plt.fill_between(np.arange(0.3, 0.8, 0.1), acc_mins, acc_maxs, alpha=0.2, label='Min-Max Range')\n",
    "plt.title('Accuracy vs Training Set Size')\n",
    "plt.xlabel('Training Set Size')\n",
    "plt.ylabel('Accuracy')\n",
    "plt.legend()\n",
    "plt.show()"
   ]
  },
  {
   "cell_type": "code",
   "execution_count": 22,
   "id": "dde1b93b",
   "metadata": {},
   "outputs": [
    {
     "data": {
      "image/png": "[encoded data removed]",
      "text/plain": [
       "<Figure size 864x432 with 1 Axes>"
      ]
     },
     "metadata": {
      "needs_background": "light"
     },
     "output_type": "display_data"
    }
   ],
   "source": [
    "plt.figure(figsize=(12, 6))\n",
    "# Plot number of nodes in the final tree against training set size\n",
    "plt.subplot(1, 2, 1)\n",
    "plt.plot(np.arange(0.3, 0.8, 0.1), tree_size_means, label='Mean Tree Size', marker='o')\n",
    "# plt.fill_between(np.arange(0.3, 0.8, 0.1), tree_size_mins, tree_size_maxs, alpha=0.2, label='Min-Max Range')\n",
    "plt.title('Tree Size vs Training Set Size')\n",
    "plt.xlabel('Training Set Size')\n",
    "plt.ylabel('Tree Size')\n",
    "plt.legend()\n",
    "\n",
    "plt.show()"
   ]
  },
  {
   "cell_type": "code",
   "execution_count": null,
   "id": "78d80301",
   "metadata": {},
   "outputs": [],
   "source": []
  },
  {
   "cell_type": "code",
   "execution_count": null,
   "id": "51cc5286",
   "metadata": {},
   "outputs": [],
   "source": []
  },
  {
   "cell_type": "code",
   "execution_count": null,
   "id": "925e74dc",
   "metadata": {},
   "outputs": [],
   "source": []
  }
 ],
 "metadata": {
  "kernelspec": {
   "display_name": "Python 3 (ipykernel)",
   "language": "python",
   "name": "python3"
  },
  "language_info": {
   "codemirror_mode": {
    "name": "ipython",
    "version": 3
   },
   "file_extension": ".py",
   "mimetype": "text/x-python",
   "name": "python",
   "nbconvert_exporter": "python",
   "pygments_lexer": "ipython3",
   "version": "3.9.7"
  }
 },
 "nbformat": 4,
 "nbformat_minor": 5
}
